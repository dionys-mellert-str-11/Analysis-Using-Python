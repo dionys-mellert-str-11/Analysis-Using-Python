{
 "cells": [
  {
   "cell_type": "markdown",
   "id": "19635399",
   "metadata": {},
   "source": [
    "Import Libraries"
   ]
  },
  {
   "cell_type": "code",
   "execution_count": 1,
   "id": "55cf8dd8",
   "metadata": {},
   "outputs": [],
   "source": [
    "import pandas as pd\n",
    "import numpy as np"
   ]
  },
  {
   "cell_type": "markdown",
   "id": "7af6fa43",
   "metadata": {},
   "source": [
    "Read CSV File"
   ]
  },
  {
   "cell_type": "code",
   "execution_count": 2,
   "id": "8915cabe",
   "metadata": {},
   "outputs": [
    {
     "data": {
      "text/html": [
       "<div>\n",
       "<style scoped>\n",
       "    .dataframe tbody tr th:only-of-type {\n",
       "        vertical-align: middle;\n",
       "    }\n",
       "\n",
       "    .dataframe tbody tr th {\n",
       "        vertical-align: top;\n",
       "    }\n",
       "\n",
       "    .dataframe thead th {\n",
       "        text-align: right;\n",
       "    }\n",
       "</style>\n",
       "<table border=\"1\" class=\"dataframe\">\n",
       "  <thead>\n",
       "    <tr style=\"text-align: right;\">\n",
       "      <th></th>\n",
       "      <th>Username</th>\n",
       "      <th>Identifier</th>\n",
       "      <th>One-time password</th>\n",
       "      <th>Recovery code</th>\n",
       "      <th>First name</th>\n",
       "      <th>Last name</th>\n",
       "      <th>Department</th>\n",
       "      <th>Location</th>\n",
       "    </tr>\n",
       "  </thead>\n",
       "  <tbody>\n",
       "    <tr>\n",
       "      <th>0</th>\n",
       "      <td>booker12</td>\n",
       "      <td>9012</td>\n",
       "      <td>12se74</td>\n",
       "      <td>rb9012</td>\n",
       "      <td>Rachel</td>\n",
       "      <td>Booker</td>\n",
       "      <td>Sales</td>\n",
       "      <td>Manchester</td>\n",
       "    </tr>\n",
       "    <tr>\n",
       "      <th>1</th>\n",
       "      <td>grey07</td>\n",
       "      <td>2070</td>\n",
       "      <td>04ap67</td>\n",
       "      <td>lg2070</td>\n",
       "      <td>Laura</td>\n",
       "      <td>Grey</td>\n",
       "      <td>Depot</td>\n",
       "      <td>London</td>\n",
       "    </tr>\n",
       "    <tr>\n",
       "      <th>2</th>\n",
       "      <td>johnson81</td>\n",
       "      <td>4081</td>\n",
       "      <td>30no86</td>\n",
       "      <td>cj4081</td>\n",
       "      <td>Craig</td>\n",
       "      <td>Johnson</td>\n",
       "      <td>Depot</td>\n",
       "      <td>London</td>\n",
       "    </tr>\n",
       "    <tr>\n",
       "      <th>3</th>\n",
       "      <td>jenkins46</td>\n",
       "      <td>9346</td>\n",
       "      <td>14ju73</td>\n",
       "      <td>mj9346</td>\n",
       "      <td>Mary</td>\n",
       "      <td>Jenkins</td>\n",
       "      <td>Engineering</td>\n",
       "      <td>Manchester</td>\n",
       "    </tr>\n",
       "    <tr>\n",
       "      <th>4</th>\n",
       "      <td>smith79</td>\n",
       "      <td>5079</td>\n",
       "      <td>09ja61</td>\n",
       "      <td>js5079</td>\n",
       "      <td>Jamie</td>\n",
       "      <td>Smith</td>\n",
       "      <td>Engineering</td>\n",
       "      <td>Manchester</td>\n",
       "    </tr>\n",
       "  </tbody>\n",
       "</table>\n",
       "</div>"
      ],
      "text/plain": [
       "    Username   Identifier One-time password Recovery code First name  \\\n",
       "0   booker12         9012            12se74        rb9012     Rachel   \n",
       "1     grey07         2070            04ap67        lg2070      Laura   \n",
       "2  johnson81         4081            30no86        cj4081      Craig   \n",
       "3  jenkins46         9346            14ju73        mj9346       Mary   \n",
       "4    smith79         5079            09ja61        js5079      Jamie   \n",
       "\n",
       "  Last name   Department    Location  \n",
       "0    Booker        Sales  Manchester  \n",
       "1      Grey        Depot      London  \n",
       "2   Johnson        Depot      London  \n",
       "3   Jenkins  Engineering  Manchester  \n",
       "4     Smith  Engineering  Manchester  "
      ]
     },
     "execution_count": 2,
     "metadata": {},
     "output_type": "execute_result"
    }
   ],
   "source": [
    "df = pd.read_csv(\"username-password-recovery-code.csv\", delimiter= ';')\n",
    "df"
   ]
  },
  {
   "cell_type": "markdown",
   "id": "84b3054b",
   "metadata": {},
   "source": [
    "Check whethere there is a missing data"
   ]
  },
  {
   "cell_type": "code",
   "execution_count": 3,
   "id": "5ca68324",
   "metadata": {},
   "outputs": [
    {
     "data": {
      "text/plain": [
       "Username             0\n",
       " Identifier          0\n",
       "One-time password    0\n",
       "Recovery code        0\n",
       "First name           0\n",
       "Last name            0\n",
       "Department           0\n",
       "Location             0\n",
       "dtype: int64"
      ]
     },
     "execution_count": 3,
     "metadata": {},
     "output_type": "execute_result"
    }
   ],
   "source": [
    "df.isnull().sum() "
   ]
  },
  {
   "cell_type": "markdown",
   "id": "4e0bae37",
   "metadata": {},
   "source": [
    "Rename the Column's name"
   ]
  },
  {
   "cell_type": "code",
   "execution_count": 4,
   "id": "3a38a5ca",
   "metadata": {},
   "outputs": [
    {
     "data": {
      "text/html": [
       "<div>\n",
       "<style scoped>\n",
       "    .dataframe tbody tr th:only-of-type {\n",
       "        vertical-align: middle;\n",
       "    }\n",
       "\n",
       "    .dataframe tbody tr th {\n",
       "        vertical-align: top;\n",
       "    }\n",
       "\n",
       "    .dataframe thead th {\n",
       "        text-align: right;\n",
       "    }\n",
       "</style>\n",
       "<table border=\"1\" class=\"dataframe\">\n",
       "  <thead>\n",
       "    <tr style=\"text-align: right;\">\n",
       "      <th></th>\n",
       "      <th>Username</th>\n",
       "      <th>Identifier</th>\n",
       "      <th>One-timePassword</th>\n",
       "      <th>RecoveryCode</th>\n",
       "      <th>FirstName</th>\n",
       "      <th>LastName</th>\n",
       "      <th>Department</th>\n",
       "      <th>Location</th>\n",
       "    </tr>\n",
       "  </thead>\n",
       "  <tbody>\n",
       "    <tr>\n",
       "      <th>0</th>\n",
       "      <td>booker12</td>\n",
       "      <td>9012</td>\n",
       "      <td>12se74</td>\n",
       "      <td>rb9012</td>\n",
       "      <td>Rachel</td>\n",
       "      <td>Booker</td>\n",
       "      <td>Sales</td>\n",
       "      <td>Manchester</td>\n",
       "    </tr>\n",
       "    <tr>\n",
       "      <th>1</th>\n",
       "      <td>grey07</td>\n",
       "      <td>2070</td>\n",
       "      <td>04ap67</td>\n",
       "      <td>lg2070</td>\n",
       "      <td>Laura</td>\n",
       "      <td>Grey</td>\n",
       "      <td>Depot</td>\n",
       "      <td>London</td>\n",
       "    </tr>\n",
       "    <tr>\n",
       "      <th>2</th>\n",
       "      <td>johnson81</td>\n",
       "      <td>4081</td>\n",
       "      <td>30no86</td>\n",
       "      <td>cj4081</td>\n",
       "      <td>Craig</td>\n",
       "      <td>Johnson</td>\n",
       "      <td>Depot</td>\n",
       "      <td>London</td>\n",
       "    </tr>\n",
       "    <tr>\n",
       "      <th>3</th>\n",
       "      <td>jenkins46</td>\n",
       "      <td>9346</td>\n",
       "      <td>14ju73</td>\n",
       "      <td>mj9346</td>\n",
       "      <td>Mary</td>\n",
       "      <td>Jenkins</td>\n",
       "      <td>Engineering</td>\n",
       "      <td>Manchester</td>\n",
       "    </tr>\n",
       "    <tr>\n",
       "      <th>4</th>\n",
       "      <td>smith79</td>\n",
       "      <td>5079</td>\n",
       "      <td>09ja61</td>\n",
       "      <td>js5079</td>\n",
       "      <td>Jamie</td>\n",
       "      <td>Smith</td>\n",
       "      <td>Engineering</td>\n",
       "      <td>Manchester</td>\n",
       "    </tr>\n",
       "  </tbody>\n",
       "</table>\n",
       "</div>"
      ],
      "text/plain": [
       "    Username   Identifier One-timePassword RecoveryCode FirstName LastName  \\\n",
       "0   booker12         9012           12se74       rb9012    Rachel   Booker   \n",
       "1     grey07         2070           04ap67       lg2070     Laura     Grey   \n",
       "2  johnson81         4081           30no86       cj4081     Craig  Johnson   \n",
       "3  jenkins46         9346           14ju73       mj9346      Mary  Jenkins   \n",
       "4    smith79         5079           09ja61       js5079     Jamie    Smith   \n",
       "\n",
       "    Department    Location  \n",
       "0        Sales  Manchester  \n",
       "1        Depot      London  \n",
       "2        Depot      London  \n",
       "3  Engineering  Manchester  \n",
       "4  Engineering  Manchester  "
      ]
     },
     "execution_count": 4,
     "metadata": {},
     "output_type": "execute_result"
    }
   ],
   "source": [
    "df.rename(columns={'One-time password': 'One-timePassword', 'Recovery code': 'RecoveryCode',\n",
    "                  'First name': 'FirstName', 'Last name': 'LastName'}, inplace=True)\n",
    "df"
   ]
  },
  {
   "cell_type": "markdown",
   "id": "46a24e69",
   "metadata": {},
   "source": [
    "Convert a word into small letter"
   ]
  },
  {
   "cell_type": "code",
   "execution_count": 5,
   "id": "6934bd32",
   "metadata": {},
   "outputs": [
    {
     "data": {
      "text/plain": [
       "0    rachel\n",
       "1     laura\n",
       "2     craig\n",
       "3      mary\n",
       "4     jamie\n",
       "Name: FirstName, dtype: object"
      ]
     },
     "execution_count": 5,
     "metadata": {},
     "output_type": "execute_result"
    }
   ],
   "source": [
    "lower = df.FirstName.str.lower()\n",
    "lower"
   ]
  },
  {
   "cell_type": "markdown",
   "id": "ea4db581",
   "metadata": {},
   "source": []
  },
  {
   "cell_type": "code",
   "execution_count": 6,
   "id": "76f75fcd",
   "metadata": {},
   "outputs": [
    {
     "data": {
      "text/plain": [
       "0    Rachel\n",
       "1     Laura\n",
       "2     Craig\n",
       "3      Mary\n",
       "4     Jamie\n",
       "Name: FirstName, dtype: object"
      ]
     },
     "execution_count": 6,
     "metadata": {},
     "output_type": "execute_result"
    }
   ],
   "source": [
    "capitalize = df.FirstName.str.capitalize()\n",
    "capitalize"
   ]
  },
  {
   "cell_type": "code",
   "execution_count": null,
   "id": "050b9bfb",
   "metadata": {},
   "outputs": [],
   "source": []
  },
  {
   "cell_type": "code",
   "execution_count": null,
   "id": "2101ffef",
   "metadata": {},
   "outputs": [],
   "source": []
  },
  {
   "cell_type": "code",
   "execution_count": null,
   "id": "ec436550",
   "metadata": {},
   "outputs": [],
   "source": []
  },
  {
   "cell_type": "code",
   "execution_count": null,
   "id": "d62b38cd",
   "metadata": {},
   "outputs": [],
   "source": []
  }
 ],
 "metadata": {
  "kernelspec": {
   "display_name": "Python 3 (ipykernel)",
   "language": "python",
   "name": "python3"
  },
  "language_info": {
   "codemirror_mode": {
    "name": "ipython",
    "version": 3
   },
   "file_extension": ".py",
   "mimetype": "text/x-python",
   "name": "python",
   "nbconvert_exporter": "python",
   "pygments_lexer": "ipython3",
   "version": "3.10.9"
  }
 },
 "nbformat": 4,
 "nbformat_minor": 5
}
