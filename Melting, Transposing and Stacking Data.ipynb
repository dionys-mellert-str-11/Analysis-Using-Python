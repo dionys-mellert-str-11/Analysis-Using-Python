{
 "cells": [
  {
   "cell_type": "markdown",
   "id": "ca8a9a0b",
   "metadata": {},
   "source": [
    "Import Library"
   ]
  },
  {
   "cell_type": "code",
   "execution_count": 4,
   "id": "5abe5cc3",
   "metadata": {},
   "outputs": [],
   "source": [
    "import pandas as pd"
   ]
  },
  {
   "cell_type": "markdown",
   "id": "a4c4380c",
   "metadata": {},
   "source": [
    "Create dataset"
   ]
  },
  {
   "cell_type": "code",
   "execution_count": 15,
   "id": "084d8620",
   "metadata": {},
   "outputs": [],
   "source": [
    "scores = pd.DataFrame({\n",
    "    'name':['Rocky', 'Bobby', 'Maria', 'Raichel'],\n",
    "    'age':[20, 25, 16, 19],\n",
    "    'test1':[95, 80, 60, None],\n",
    "    'test2':[65, 70, 98, 50],\n",
    "    'teacher':['Denis', 'Denis', 'Windy', 'Windy']\n",
    "})"
   ]
  },
  {
   "cell_type": "markdown",
   "id": "16f76bb2",
   "metadata": {},
   "source": [
    "Look at data"
   ]
  },
  {
   "cell_type": "code",
   "execution_count": 16,
   "id": "43c5fc47",
   "metadata": {},
   "outputs": [
    {
     "data": {
      "text/html": [
       "<div>\n",
       "<style scoped>\n",
       "    .dataframe tbody tr th:only-of-type {\n",
       "        vertical-align: middle;\n",
       "    }\n",
       "\n",
       "    .dataframe tbody tr th {\n",
       "        vertical-align: top;\n",
       "    }\n",
       "\n",
       "    .dataframe thead th {\n",
       "        text-align: right;\n",
       "    }\n",
       "</style>\n",
       "<table border=\"1\" class=\"dataframe\">\n",
       "  <thead>\n",
       "    <tr style=\"text-align: right;\">\n",
       "      <th></th>\n",
       "      <th>name</th>\n",
       "      <th>age</th>\n",
       "      <th>test1</th>\n",
       "      <th>test2</th>\n",
       "      <th>teacher</th>\n",
       "    </tr>\n",
       "  </thead>\n",
       "  <tbody>\n",
       "    <tr>\n",
       "      <th>0</th>\n",
       "      <td>Rocky</td>\n",
       "      <td>20</td>\n",
       "      <td>95.0</td>\n",
       "      <td>65</td>\n",
       "      <td>Denis</td>\n",
       "    </tr>\n",
       "    <tr>\n",
       "      <th>1</th>\n",
       "      <td>Bobby</td>\n",
       "      <td>25</td>\n",
       "      <td>80.0</td>\n",
       "      <td>70</td>\n",
       "      <td>Denis</td>\n",
       "    </tr>\n",
       "    <tr>\n",
       "      <th>2</th>\n",
       "      <td>Maria</td>\n",
       "      <td>16</td>\n",
       "      <td>60.0</td>\n",
       "      <td>98</td>\n",
       "      <td>Windy</td>\n",
       "    </tr>\n",
       "    <tr>\n",
       "      <th>3</th>\n",
       "      <td>Raichel</td>\n",
       "      <td>19</td>\n",
       "      <td>NaN</td>\n",
       "      <td>50</td>\n",
       "      <td>Windy</td>\n",
       "    </tr>\n",
       "  </tbody>\n",
       "</table>\n",
       "</div>"
      ],
      "text/plain": [
       "      name  age  test1  test2 teacher\n",
       "0    Rocky   20   95.0     65   Denis\n",
       "1    Bobby   25   80.0     70   Denis\n",
       "2    Maria   16   60.0     98   Windy\n",
       "3  Raichel   19    NaN     50   Windy"
      ]
     },
     "execution_count": 16,
     "metadata": {},
     "output_type": "execute_result"
    }
   ],
   "source": [
    "scores"
   ]
  },
  {
   "cell_type": "markdown",
   "id": "a9abd47d",
   "metadata": {},
   "source": [
    "MELTING"
   ]
  },
  {
   "cell_type": "markdown",
   "id": "79c629fd",
   "metadata": {},
   "source": [
    "Melting data, allows us to stack columns on top of each other"
   ]
  },
  {
   "cell_type": "code",
   "execution_count": 43,
   "id": "1ee35f2e",
   "metadata": {},
   "outputs": [
    {
     "data": {
      "text/html": [
       "<div>\n",
       "<style scoped>\n",
       "    .dataframe tbody tr th:only-of-type {\n",
       "        vertical-align: middle;\n",
       "    }\n",
       "\n",
       "    .dataframe tbody tr th {\n",
       "        vertical-align: top;\n",
       "    }\n",
       "\n",
       "    .dataframe thead th {\n",
       "        text-align: right;\n",
       "    }\n",
       "</style>\n",
       "<table border=\"1\" class=\"dataframe\">\n",
       "  <thead>\n",
       "    <tr style=\"text-align: right;\">\n",
       "      <th></th>\n",
       "      <th>name</th>\n",
       "      <th>age</th>\n",
       "      <th>teacher</th>\n",
       "      <th>test</th>\n",
       "      <th>score</th>\n",
       "    </tr>\n",
       "  </thead>\n",
       "  <tbody>\n",
       "    <tr>\n",
       "      <th>0</th>\n",
       "      <td>Rocky</td>\n",
       "      <td>20</td>\n",
       "      <td>Denis</td>\n",
       "      <td>test1</td>\n",
       "      <td>95.0</td>\n",
       "    </tr>\n",
       "    <tr>\n",
       "      <th>1</th>\n",
       "      <td>Bobby</td>\n",
       "      <td>25</td>\n",
       "      <td>Denis</td>\n",
       "      <td>test1</td>\n",
       "      <td>80.0</td>\n",
       "    </tr>\n",
       "    <tr>\n",
       "      <th>2</th>\n",
       "      <td>Maria</td>\n",
       "      <td>16</td>\n",
       "      <td>Windy</td>\n",
       "      <td>test1</td>\n",
       "      <td>60.0</td>\n",
       "    </tr>\n",
       "    <tr>\n",
       "      <th>3</th>\n",
       "      <td>Raichel</td>\n",
       "      <td>19</td>\n",
       "      <td>Windy</td>\n",
       "      <td>test1</td>\n",
       "      <td>NaN</td>\n",
       "    </tr>\n",
       "    <tr>\n",
       "      <th>4</th>\n",
       "      <td>Rocky</td>\n",
       "      <td>20</td>\n",
       "      <td>Denis</td>\n",
       "      <td>test2</td>\n",
       "      <td>65.0</td>\n",
       "    </tr>\n",
       "    <tr>\n",
       "      <th>5</th>\n",
       "      <td>Bobby</td>\n",
       "      <td>25</td>\n",
       "      <td>Denis</td>\n",
       "      <td>test2</td>\n",
       "      <td>70.0</td>\n",
       "    </tr>\n",
       "    <tr>\n",
       "      <th>6</th>\n",
       "      <td>Maria</td>\n",
       "      <td>16</td>\n",
       "      <td>Windy</td>\n",
       "      <td>test2</td>\n",
       "      <td>98.0</td>\n",
       "    </tr>\n",
       "    <tr>\n",
       "      <th>7</th>\n",
       "      <td>Raichel</td>\n",
       "      <td>19</td>\n",
       "      <td>Windy</td>\n",
       "      <td>test2</td>\n",
       "      <td>50.0</td>\n",
       "    </tr>\n",
       "  </tbody>\n",
       "</table>\n",
       "</div>"
      ],
      "text/plain": [
       "      name  age teacher   test  score\n",
       "0    Rocky   20   Denis  test1   95.0\n",
       "1    Bobby   25   Denis  test1   80.0\n",
       "2    Maria   16   Windy  test1   60.0\n",
       "3  Raichel   19   Windy  test1    NaN\n",
       "4    Rocky   20   Denis  test2   65.0\n",
       "5    Bobby   25   Denis  test2   70.0\n",
       "6    Maria   16   Windy  test2   98.0\n",
       "7  Raichel   19   Windy  test2   50.0"
      ]
     },
     "execution_count": 43,
     "metadata": {},
     "output_type": "execute_result"
    }
   ],
   "source": [
    "melted = pd.melt(scores, id_vars=['name', 'age', 'teacher'], \n",
    "        value_vars=['test1', 'test2'],\n",
    "        var_name='test', value_name='score')\n",
    "melted"
   ]
  },
  {
   "cell_type": "markdown",
   "id": "9f54e870",
   "metadata": {},
   "source": [
    "TRANSPOSING"
   ]
  },
  {
   "cell_type": "markdown",
   "id": "8532cd6b",
   "metadata": {},
   "source": [
    "Transposing meaning that we are swapping axis using pivot"
   ]
  },
  {
   "cell_type": "code",
   "execution_count": 45,
   "id": "15937916",
   "metadata": {},
   "outputs": [
    {
     "data": {
      "text/html": [
       "<div>\n",
       "<style scoped>\n",
       "    .dataframe tbody tr th:only-of-type {\n",
       "        vertical-align: middle;\n",
       "    }\n",
       "\n",
       "    .dataframe tbody tr th {\n",
       "        vertical-align: top;\n",
       "    }\n",
       "\n",
       "    .dataframe thead th {\n",
       "        text-align: right;\n",
       "    }\n",
       "</style>\n",
       "<table border=\"1\" class=\"dataframe\">\n",
       "  <thead>\n",
       "    <tr style=\"text-align: right;\">\n",
       "      <th>test</th>\n",
       "      <th>name</th>\n",
       "      <th>age</th>\n",
       "      <th>teacher</th>\n",
       "      <th>test1</th>\n",
       "      <th>test2</th>\n",
       "    </tr>\n",
       "  </thead>\n",
       "  <tbody>\n",
       "    <tr>\n",
       "      <th>0</th>\n",
       "      <td>Bobby</td>\n",
       "      <td>25</td>\n",
       "      <td>Denis</td>\n",
       "      <td>80.0</td>\n",
       "      <td>70.0</td>\n",
       "    </tr>\n",
       "    <tr>\n",
       "      <th>1</th>\n",
       "      <td>Maria</td>\n",
       "      <td>16</td>\n",
       "      <td>Windy</td>\n",
       "      <td>60.0</td>\n",
       "      <td>98.0</td>\n",
       "    </tr>\n",
       "    <tr>\n",
       "      <th>2</th>\n",
       "      <td>Raichel</td>\n",
       "      <td>19</td>\n",
       "      <td>Windy</td>\n",
       "      <td>NaN</td>\n",
       "      <td>50.0</td>\n",
       "    </tr>\n",
       "    <tr>\n",
       "      <th>3</th>\n",
       "      <td>Rocky</td>\n",
       "      <td>20</td>\n",
       "      <td>Denis</td>\n",
       "      <td>95.0</td>\n",
       "      <td>65.0</td>\n",
       "    </tr>\n",
       "  </tbody>\n",
       "</table>\n",
       "</div>"
      ],
      "text/plain": [
       "test     name  age teacher  test1  test2\n",
       "0       Bobby   25   Denis   80.0   70.0\n",
       "1       Maria   16   Windy   60.0   98.0\n",
       "2     Raichel   19   Windy    NaN   50.0\n",
       "3       Rocky   20   Denis   95.0   65.0"
      ]
     },
     "execution_count": 45,
     "metadata": {},
     "output_type": "execute_result"
    }
   ],
   "source": [
    "melted.pivot_table(index=['name', 'age', 'teacher'],\n",
    "                  columns='test', values='score').reset_index()\n"
   ]
  },
  {
   "cell_type": "code",
   "execution_count": null,
   "id": "d5a67c07",
   "metadata": {},
   "outputs": [],
   "source": [
    "STACKING"
   ]
  },
  {
   "cell_type": "code",
   "execution_count": 52,
   "id": "499c5b49",
   "metadata": {},
   "outputs": [
    {
     "data": {
      "text/html": [
       "<div>\n",
       "<style scoped>\n",
       "    .dataframe tbody tr th:only-of-type {\n",
       "        vertical-align: middle;\n",
       "    }\n",
       "\n",
       "    .dataframe tbody tr th {\n",
       "        vertical-align: top;\n",
       "    }\n",
       "\n",
       "    .dataframe thead th {\n",
       "        text-align: right;\n",
       "    }\n",
       "</style>\n",
       "<table border=\"1\" class=\"dataframe\">\n",
       "  <thead>\n",
       "    <tr style=\"text-align: right;\">\n",
       "      <th></th>\n",
       "      <th></th>\n",
       "      <th>name</th>\n",
       "      <th>test1</th>\n",
       "      <th>test2</th>\n",
       "    </tr>\n",
       "    <tr>\n",
       "      <th>teacher</th>\n",
       "      <th>age</th>\n",
       "      <th></th>\n",
       "      <th></th>\n",
       "      <th></th>\n",
       "    </tr>\n",
       "  </thead>\n",
       "  <tbody>\n",
       "    <tr>\n",
       "      <th rowspan=\"2\" valign=\"top\">Denis</th>\n",
       "      <th>20</th>\n",
       "      <td>Rocky</td>\n",
       "      <td>95.0</td>\n",
       "      <td>65</td>\n",
       "    </tr>\n",
       "    <tr>\n",
       "      <th>25</th>\n",
       "      <td>Bobby</td>\n",
       "      <td>80.0</td>\n",
       "      <td>70</td>\n",
       "    </tr>\n",
       "    <tr>\n",
       "      <th rowspan=\"2\" valign=\"top\">Windy</th>\n",
       "      <th>16</th>\n",
       "      <td>Maria</td>\n",
       "      <td>60.0</td>\n",
       "      <td>98</td>\n",
       "    </tr>\n",
       "    <tr>\n",
       "      <th>19</th>\n",
       "      <td>Raichel</td>\n",
       "      <td>NaN</td>\n",
       "      <td>50</td>\n",
       "    </tr>\n",
       "  </tbody>\n",
       "</table>\n",
       "</div>"
      ],
      "text/plain": [
       "                name  test1  test2\n",
       "teacher age                       \n",
       "Denis   20     Rocky   95.0     65\n",
       "        25     Bobby   80.0     70\n",
       "Windy   16     Maria   60.0     98\n",
       "        19   Raichel    NaN     50"
      ]
     },
     "execution_count": 52,
     "metadata": {},
     "output_type": "execute_result"
    }
   ],
   "source": [
    "stack = scores.groupby(['teacher', 'age']).min()\n",
    "stack"
   ]
  },
  {
   "cell_type": "code",
   "execution_count": null,
   "id": "f84306c5",
   "metadata": {},
   "outputs": [],
   "source": []
  },
  {
   "cell_type": "code",
   "execution_count": null,
   "id": "a02f6ef6",
   "metadata": {},
   "outputs": [],
   "source": []
  },
  {
   "cell_type": "code",
   "execution_count": null,
   "id": "dd9f3062",
   "metadata": {},
   "outputs": [],
   "source": []
  }
 ],
 "metadata": {
  "kernelspec": {
   "display_name": "Python 3 (ipykernel)",
   "language": "python",
   "name": "python3"
  },
  "language_info": {
   "codemirror_mode": {
    "name": "ipython",
    "version": 3
   },
   "file_extension": ".py",
   "mimetype": "text/x-python",
   "name": "python",
   "nbconvert_exporter": "python",
   "pygments_lexer": "ipython3",
   "version": "3.10.9"
  }
 },
 "nbformat": 4,
 "nbformat_minor": 5
}
